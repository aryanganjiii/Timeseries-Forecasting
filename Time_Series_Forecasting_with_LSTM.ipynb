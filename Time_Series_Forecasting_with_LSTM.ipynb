{
  "cells": [
    {
      "cell_type": "markdown",
      "metadata": {
        "id": "view-in-github",
        "colab_type": "text"
      },
      "source": [
        "<a href=\"https://colab.research.google.com/github/aryanganjiii/Timeseries-Forecasting/blob/main/Time_Series_Forecasting_with_LSTM.ipynb\" target=\"_parent\"><img src=\"https://colab.research.google.com/assets/colab-badge.svg\" alt=\"Open In Colab\"/></a>"
      ]
    },
    {
      "cell_type": "markdown",
      "source": [
        "# Time-Series Forecasting with LSTM"
      ],
      "metadata": {
        "id": "bkiwdk0VEoW3"
      }
    },
    {
      "cell_type": "markdown",
      "source": [
        "## Load Libabry"
      ],
      "metadata": {
        "id": "3gWYVRRfEvAL"
      }
    },
    {
      "cell_type": "code",
      "execution_count": 1,
      "metadata": {
        "id": "PRHsxdxJberx"
      },
      "outputs": [],
      "source": [
        "import tensorflow as tf\n",
        "import os\n",
        "import numpy as np\n",
        "import pandas as pd\n",
        "from datetime import datetime"
      ]
    },
    {
      "cell_type": "markdown",
      "source": [
        "## Load CSV File"
      ],
      "metadata": {
        "id": "kgXWrJrVXGGx"
      }
    },
    {
      "cell_type": "code",
      "execution_count": 2,
      "metadata": {
        "colab": {
          "base_uri": "https://localhost:8080/",
          "height": 424
        },
        "id": "Jgnj2NA_cQLE",
        "outputId": "320c7e59-9e72-4726-a175-fee5f3390604"
      },
      "outputs": [
        {
          "output_type": "execute_result",
          "data": {
            "text/plain": [
              "                 dateTime  values\n",
              "0    2023-09-01T03:35:00Z    2.77\n",
              "1    2023-09-01T03:40:00Z    2.77\n",
              "2    2023-09-01T03:45:00Z    2.77\n",
              "3    2023-09-01T03:50:00Z    2.79\n",
              "4    2023-09-01T03:55:00Z    2.77\n",
              "..                    ...     ...\n",
              "794  2023-09-03T23:05:00Z    2.89\n",
              "795  2023-09-03T23:10:00Z    2.89\n",
              "796  2023-09-03T23:15:00Z    2.89\n",
              "797  2023-09-03T23:20:00Z    2.89\n",
              "798  2023-09-03T23:25:00Z    2.89\n",
              "\n",
              "[799 rows x 2 columns]"
            ],
            "text/html": [
              "\n",
              "  <div id=\"df-b30b8881-de85-47d5-8916-6cc6af72cbb7\" class=\"colab-df-container\">\n",
              "    <div>\n",
              "<style scoped>\n",
              "    .dataframe tbody tr th:only-of-type {\n",
              "        vertical-align: middle;\n",
              "    }\n",
              "\n",
              "    .dataframe tbody tr th {\n",
              "        vertical-align: top;\n",
              "    }\n",
              "\n",
              "    .dataframe thead th {\n",
              "        text-align: right;\n",
              "    }\n",
              "</style>\n",
              "<table border=\"1\" class=\"dataframe\">\n",
              "  <thead>\n",
              "    <tr style=\"text-align: right;\">\n",
              "      <th></th>\n",
              "      <th>dateTime</th>\n",
              "      <th>values</th>\n",
              "    </tr>\n",
              "  </thead>\n",
              "  <tbody>\n",
              "    <tr>\n",
              "      <th>0</th>\n",
              "      <td>2023-09-01T03:35:00Z</td>\n",
              "      <td>2.77</td>\n",
              "    </tr>\n",
              "    <tr>\n",
              "      <th>1</th>\n",
              "      <td>2023-09-01T03:40:00Z</td>\n",
              "      <td>2.77</td>\n",
              "    </tr>\n",
              "    <tr>\n",
              "      <th>2</th>\n",
              "      <td>2023-09-01T03:45:00Z</td>\n",
              "      <td>2.77</td>\n",
              "    </tr>\n",
              "    <tr>\n",
              "      <th>3</th>\n",
              "      <td>2023-09-01T03:50:00Z</td>\n",
              "      <td>2.79</td>\n",
              "    </tr>\n",
              "    <tr>\n",
              "      <th>4</th>\n",
              "      <td>2023-09-01T03:55:00Z</td>\n",
              "      <td>2.77</td>\n",
              "    </tr>\n",
              "    <tr>\n",
              "      <th>...</th>\n",
              "      <td>...</td>\n",
              "      <td>...</td>\n",
              "    </tr>\n",
              "    <tr>\n",
              "      <th>794</th>\n",
              "      <td>2023-09-03T23:05:00Z</td>\n",
              "      <td>2.89</td>\n",
              "    </tr>\n",
              "    <tr>\n",
              "      <th>795</th>\n",
              "      <td>2023-09-03T23:10:00Z</td>\n",
              "      <td>2.89</td>\n",
              "    </tr>\n",
              "    <tr>\n",
              "      <th>796</th>\n",
              "      <td>2023-09-03T23:15:00Z</td>\n",
              "      <td>2.89</td>\n",
              "    </tr>\n",
              "    <tr>\n",
              "      <th>797</th>\n",
              "      <td>2023-09-03T23:20:00Z</td>\n",
              "      <td>2.89</td>\n",
              "    </tr>\n",
              "    <tr>\n",
              "      <th>798</th>\n",
              "      <td>2023-09-03T23:25:00Z</td>\n",
              "      <td>2.89</td>\n",
              "    </tr>\n",
              "  </tbody>\n",
              "</table>\n",
              "<p>799 rows × 2 columns</p>\n",
              "</div>\n",
              "    <div class=\"colab-df-buttons\">\n",
              "\n",
              "  <div class=\"colab-df-container\">\n",
              "    <button class=\"colab-df-convert\" onclick=\"convertToInteractive('df-b30b8881-de85-47d5-8916-6cc6af72cbb7')\"\n",
              "            title=\"Convert this dataframe to an interactive table.\"\n",
              "            style=\"display:none;\">\n",
              "\n",
              "  <svg xmlns=\"http://www.w3.org/2000/svg\" height=\"24px\" viewBox=\"0 -960 960 960\">\n",
              "    <path d=\"M120-120v-720h720v720H120Zm60-500h600v-160H180v160Zm220 220h160v-160H400v160Zm0 220h160v-160H400v160ZM180-400h160v-160H180v160Zm440 0h160v-160H620v160ZM180-180h160v-160H180v160Zm440 0h160v-160H620v160Z\"/>\n",
              "  </svg>\n",
              "    </button>\n",
              "\n",
              "  <style>\n",
              "    .colab-df-container {\n",
              "      display:flex;\n",
              "      gap: 12px;\n",
              "    }\n",
              "\n",
              "    .colab-df-convert {\n",
              "      background-color: #E8F0FE;\n",
              "      border: none;\n",
              "      border-radius: 50%;\n",
              "      cursor: pointer;\n",
              "      display: none;\n",
              "      fill: #1967D2;\n",
              "      height: 32px;\n",
              "      padding: 0 0 0 0;\n",
              "      width: 32px;\n",
              "    }\n",
              "\n",
              "    .colab-df-convert:hover {\n",
              "      background-color: #E2EBFA;\n",
              "      box-shadow: 0px 1px 2px rgba(60, 64, 67, 0.3), 0px 1px 3px 1px rgba(60, 64, 67, 0.15);\n",
              "      fill: #174EA6;\n",
              "    }\n",
              "\n",
              "    .colab-df-buttons div {\n",
              "      margin-bottom: 4px;\n",
              "    }\n",
              "\n",
              "    [theme=dark] .colab-df-convert {\n",
              "      background-color: #3B4455;\n",
              "      fill: #D2E3FC;\n",
              "    }\n",
              "\n",
              "    [theme=dark] .colab-df-convert:hover {\n",
              "      background-color: #434B5C;\n",
              "      box-shadow: 0px 1px 3px 1px rgba(0, 0, 0, 0.15);\n",
              "      filter: drop-shadow(0px 1px 2px rgba(0, 0, 0, 0.3));\n",
              "      fill: #FFFFFF;\n",
              "    }\n",
              "  </style>\n",
              "\n",
              "    <script>\n",
              "      const buttonEl =\n",
              "        document.querySelector('#df-b30b8881-de85-47d5-8916-6cc6af72cbb7 button.colab-df-convert');\n",
              "      buttonEl.style.display =\n",
              "        google.colab.kernel.accessAllowed ? 'block' : 'none';\n",
              "\n",
              "      async function convertToInteractive(key) {\n",
              "        const element = document.querySelector('#df-b30b8881-de85-47d5-8916-6cc6af72cbb7');\n",
              "        const dataTable =\n",
              "          await google.colab.kernel.invokeFunction('convertToInteractive',\n",
              "                                                    [key], {});\n",
              "        if (!dataTable) return;\n",
              "\n",
              "        const docLinkHtml = 'Like what you see? Visit the ' +\n",
              "          '<a target=\"_blank\" href=https://colab.research.google.com/notebooks/data_table.ipynb>data table notebook</a>'\n",
              "          + ' to learn more about interactive tables.';\n",
              "        element.innerHTML = '';\n",
              "        dataTable['output_type'] = 'display_data';\n",
              "        await google.colab.output.renderOutput(dataTable, element);\n",
              "        const docLink = document.createElement('div');\n",
              "        docLink.innerHTML = docLinkHtml;\n",
              "        element.appendChild(docLink);\n",
              "      }\n",
              "    </script>\n",
              "  </div>\n",
              "\n",
              "\n",
              "<div id=\"df-b848f835-8baf-4e86-8f71-09a9abceeb1b\">\n",
              "  <button class=\"colab-df-quickchart\" onclick=\"quickchart('df-b848f835-8baf-4e86-8f71-09a9abceeb1b')\"\n",
              "            title=\"Suggest charts\"\n",
              "            style=\"display:none;\">\n",
              "\n",
              "<svg xmlns=\"http://www.w3.org/2000/svg\" height=\"24px\"viewBox=\"0 0 24 24\"\n",
              "     width=\"24px\">\n",
              "    <g>\n",
              "        <path d=\"M19 3H5c-1.1 0-2 .9-2 2v14c0 1.1.9 2 2 2h14c1.1 0 2-.9 2-2V5c0-1.1-.9-2-2-2zM9 17H7v-7h2v7zm4 0h-2V7h2v10zm4 0h-2v-4h2v4z\"/>\n",
              "    </g>\n",
              "</svg>\n",
              "  </button>\n",
              "\n",
              "<style>\n",
              "  .colab-df-quickchart {\n",
              "      --bg-color: #E8F0FE;\n",
              "      --fill-color: #1967D2;\n",
              "      --hover-bg-color: #E2EBFA;\n",
              "      --hover-fill-color: #174EA6;\n",
              "      --disabled-fill-color: #AAA;\n",
              "      --disabled-bg-color: #DDD;\n",
              "  }\n",
              "\n",
              "  [theme=dark] .colab-df-quickchart {\n",
              "      --bg-color: #3B4455;\n",
              "      --fill-color: #D2E3FC;\n",
              "      --hover-bg-color: #434B5C;\n",
              "      --hover-fill-color: #FFFFFF;\n",
              "      --disabled-bg-color: #3B4455;\n",
              "      --disabled-fill-color: #666;\n",
              "  }\n",
              "\n",
              "  .colab-df-quickchart {\n",
              "    background-color: var(--bg-color);\n",
              "    border: none;\n",
              "    border-radius: 50%;\n",
              "    cursor: pointer;\n",
              "    display: none;\n",
              "    fill: var(--fill-color);\n",
              "    height: 32px;\n",
              "    padding: 0;\n",
              "    width: 32px;\n",
              "  }\n",
              "\n",
              "  .colab-df-quickchart:hover {\n",
              "    background-color: var(--hover-bg-color);\n",
              "    box-shadow: 0 1px 2px rgba(60, 64, 67, 0.3), 0 1px 3px 1px rgba(60, 64, 67, 0.15);\n",
              "    fill: var(--button-hover-fill-color);\n",
              "  }\n",
              "\n",
              "  .colab-df-quickchart-complete:disabled,\n",
              "  .colab-df-quickchart-complete:disabled:hover {\n",
              "    background-color: var(--disabled-bg-color);\n",
              "    fill: var(--disabled-fill-color);\n",
              "    box-shadow: none;\n",
              "  }\n",
              "\n",
              "  .colab-df-spinner {\n",
              "    border: 2px solid var(--fill-color);\n",
              "    border-color: transparent;\n",
              "    border-bottom-color: var(--fill-color);\n",
              "    animation:\n",
              "      spin 1s steps(1) infinite;\n",
              "  }\n",
              "\n",
              "  @keyframes spin {\n",
              "    0% {\n",
              "      border-color: transparent;\n",
              "      border-bottom-color: var(--fill-color);\n",
              "      border-left-color: var(--fill-color);\n",
              "    }\n",
              "    20% {\n",
              "      border-color: transparent;\n",
              "      border-left-color: var(--fill-color);\n",
              "      border-top-color: var(--fill-color);\n",
              "    }\n",
              "    30% {\n",
              "      border-color: transparent;\n",
              "      border-left-color: var(--fill-color);\n",
              "      border-top-color: var(--fill-color);\n",
              "      border-right-color: var(--fill-color);\n",
              "    }\n",
              "    40% {\n",
              "      border-color: transparent;\n",
              "      border-right-color: var(--fill-color);\n",
              "      border-top-color: var(--fill-color);\n",
              "    }\n",
              "    60% {\n",
              "      border-color: transparent;\n",
              "      border-right-color: var(--fill-color);\n",
              "    }\n",
              "    80% {\n",
              "      border-color: transparent;\n",
              "      border-right-color: var(--fill-color);\n",
              "      border-bottom-color: var(--fill-color);\n",
              "    }\n",
              "    90% {\n",
              "      border-color: transparent;\n",
              "      border-bottom-color: var(--fill-color);\n",
              "    }\n",
              "  }\n",
              "</style>\n",
              "\n",
              "  <script>\n",
              "    async function quickchart(key) {\n",
              "      const quickchartButtonEl =\n",
              "        document.querySelector('#' + key + ' button');\n",
              "      quickchartButtonEl.disabled = true;  // To prevent multiple clicks.\n",
              "      quickchartButtonEl.classList.add('colab-df-spinner');\n",
              "      try {\n",
              "        const charts = await google.colab.kernel.invokeFunction(\n",
              "            'suggestCharts', [key], {});\n",
              "      } catch (error) {\n",
              "        console.error('Error during call to suggestCharts:', error);\n",
              "      }\n",
              "      quickchartButtonEl.classList.remove('colab-df-spinner');\n",
              "      quickchartButtonEl.classList.add('colab-df-quickchart-complete');\n",
              "    }\n",
              "    (() => {\n",
              "      let quickchartButtonEl =\n",
              "        document.querySelector('#df-b848f835-8baf-4e86-8f71-09a9abceeb1b button');\n",
              "      quickchartButtonEl.style.display =\n",
              "        google.colab.kernel.accessAllowed ? 'block' : 'none';\n",
              "    })();\n",
              "  </script>\n",
              "</div>\n",
              "    </div>\n",
              "  </div>\n"
            ],
            "application/vnd.google.colaboratory.intrinsic+json": {
              "type": "dataframe",
              "variable_name": "df",
              "summary": "{\n  \"name\": \"df\",\n  \"rows\": 799,\n  \"fields\": [\n    {\n      \"column\": \"dateTime\",\n      \"properties\": {\n        \"dtype\": \"object\",\n        \"min\": \"2023-09-01T03:35:00Z\",\n        \"max\": \"2023-09-03T23:25:00Z\",\n        \"samples\": [\n          \"2023-09-03T14:50:00Z\",\n          \"2023-09-03T12:25:00Z\",\n          \"2023-09-01T10:10:00Z\"\n        ],\n        \"num_unique_values\": 799,\n        \"semantic_type\": \"\",\n        \"description\": \"\"\n      }\n    },\n    {\n      \"column\": \"values\",\n      \"properties\": {\n        \"dtype\": \"number\",\n        \"std\": 0.04149705882134511,\n        \"min\": 2.7,\n        \"max\": 2.99,\n        \"samples\": [\n          2.7,\n          2.73,\n          2.8\n        ],\n        \"num_unique_values\": 27,\n        \"semantic_type\": \"\",\n        \"description\": \"\"\n      }\n    }\n  ]\n}"
            }
          },
          "metadata": {},
          "execution_count": 2
        }
      ],
      "source": [
        "df = pd.read_csv('/content/Vibration-Paya-line1.csv')\n",
        "df"
      ]
    },
    {
      "cell_type": "markdown",
      "source": [
        "## Format Timeline & Show Plot"
      ],
      "metadata": {
        "id": "qykkNxnmXKYX"
      }
    },
    {
      "cell_type": "code",
      "execution_count": 3,
      "metadata": {
        "id": "27prCvRTcaFr"
      },
      "outputs": [],
      "source": [
        "df.index = pd.to_datetime(df['dateTime'], format='%Y-%m-%dT%H:%M:%SZ')"
      ]
    },
    {
      "cell_type": "code",
      "execution_count": 4,
      "metadata": {
        "colab": {
          "base_uri": "https://localhost:8080/",
          "height": 453
        },
        "id": "8-HOFA1yctpQ",
        "outputId": "cf462762-3daf-4e31-e249-962195f73f54"
      },
      "outputs": [
        {
          "output_type": "execute_result",
          "data": {
            "text/plain": [
              "<Axes: xlabel='dateTime'>"
            ]
          },
          "metadata": {},
          "execution_count": 4
        },
        {
          "output_type": "display_data",
          "data": {
            "text/plain": [
              "<Figure size 640x480 with 1 Axes>"
            ],
            "image/png": "[encoded data removed]"
          },
          "metadata": {}
        }
      ],
      "source": [
        "temp = df['values']\n",
        "temp.plot()"
      ]
    },
    {
      "cell_type": "markdown",
      "source": [
        "## Time Series Dataframe to Input-Output Sequence Arrays Conversion"
      ],
      "metadata": {
        "id": "ZI5pyvw0YNUk"
      }
    },
    {
      "cell_type": "code",
      "execution_count": 5,
      "metadata": {
        "id": "y6tfXC9UclyI"
      },
      "outputs": [],
      "source": [
        "def df_to_X_y(df, window_size=5):\n",
        "  df_as_np = df.to_numpy()\n",
        "  X = []\n",
        "  y = []\n",
        "  for i in range(len(df_as_np)-window_size):\n",
        "    row = [[a] for a in df_as_np[i:i+window_size]]\n",
        "    X.append(row)\n",
        "    label = df_as_np[i+window_size]\n",
        "    y.append(label)\n",
        "  return np.array(X), np.array(y)"
      ]
    },
    {
      "cell_type": "markdown",
      "source": [
        "##  Generating Input-Output Sequence Arrays from Time Series Dataframe"
      ],
      "metadata": {
        "id": "NvCkdPArYWYz"
      }
    },
    {
      "cell_type": "code",
      "execution_count": 6,
      "metadata": {
        "colab": {
          "base_uri": "https://localhost:8080/"
        },
        "id": "ZOxEj20ocotI",
        "outputId": "06d65765-226d-4033-97f2-d87bbaffc4d8"
      },
      "outputs": [
        {
          "output_type": "execute_result",
          "data": {
            "text/plain": [
              "((798, 1, 1), (798,))"
            ]
          },
          "metadata": {},
          "execution_count": 6
        }
      ],
      "source": [
        "WINDOW_SIZE = 1\n",
        "X1, y1 = df_to_X_y(temp, WINDOW_SIZE)\n",
        "X1.shape, y1.shape"
      ]
    },
    {
      "cell_type": "markdown",
      "source": [
        "## Splitting Time Series Data into Training, Validation, and Test Sets"
      ],
      "metadata": {
        "id": "3KKidk53YbjS"
      }
    },
    {
      "cell_type": "code",
      "execution_count": 7,
      "metadata": {
        "colab": {
          "base_uri": "https://localhost:8080/"
        },
        "id": "OysZagCbcylW",
        "outputId": "fa7b5999-a02b-4eac-d405-1182ed10375b"
      },
      "outputs": [
        {
          "output_type": "execute_result",
          "data": {
            "text/plain": [
              "((700, 1, 1), (700,), (50, 1, 1), (50,), (48, 1, 1), (48,))"
            ]
          },
          "metadata": {},
          "execution_count": 7
        }
      ],
      "source": [
        "X_train1, y_train1 = X1[:700], y1[:700]\n",
        "X_val1, y_val1 = X1[700:750], y1[700:750]\n",
        "X_test1, y_test1 = X1[750:], y1[750:]\n",
        "X_train1.shape, y_train1.shape, X_val1.shape, y_val1.shape, X_test1.shape, y_test1.shape"
      ]
    },
    {
      "cell_type": "markdown",
      "source": [
        "## Design Model"
      ],
      "metadata": {
        "id": "lz9IPLj6YeIC"
      }
    },
    {
      "cell_type": "code",
      "execution_count": 21,
      "metadata": {
        "colab": {
          "base_uri": "https://localhost:8080/"
        },
        "id": "7hOWlgBsc62A",
        "outputId": "20156d5f-0a0b-4eb7-cb2e-7407d51689d6"
      },
      "outputs": [
        {
          "output_type": "stream",
          "name": "stdout",
          "text": [
            "Model: \"sequential_5\"\n",
            "_________________________________________________________________\n",
            " Layer (type)                Output Shape              Param #   \n",
            "=================================================================\n",
            " lstm_10 (LSTM)              (None, 1, 80)             26240     \n",
            "                                                                 \n",
            " dropout_10 (Dropout)        (None, 1, 80)             0         \n",
            "                                                                 \n",
            " lstm_11 (LSTM)              (None, 80)                51520     \n",
            "                                                                 \n",
            " dense_10 (Dense)            (None, 31)                2511      \n",
            "                                                                 \n",
            " dropout_11 (Dropout)        (None, 31)                0         \n",
            "                                                                 \n",
            " dense_11 (Dense)            (None, 1)                 32        \n",
            "                                                                 \n",
            "=================================================================\n",
            "Total params: 80303 (313.68 KB)\n",
            "Trainable params: 80303 (313.68 KB)\n",
            "Non-trainable params: 0 (0.00 Byte)\n",
            "_________________________________________________________________\n"
          ]
        }
      ],
      "source": [
        "from tensorflow.keras.models import Sequential\n",
        "from tensorflow.keras.layers import *\n",
        "from tensorflow.keras.callbacks import ModelCheckpoint\n",
        "from tensorflow.keras.losses import MeanSquaredError\n",
        "from tensorflow.keras.metrics import RootMeanSquaredError\n",
        "from tensorflow.keras.optimizers import Adam\n",
        "\n",
        "bias_value = 0.1\n",
        "\n",
        "model1 = Sequential()\n",
        "model1.add(InputLayer((1, 1)))\n",
        "model1.add(LSTM(80, return_sequences=True, bias_initializer=tf.keras.initializers.Constant(bias_value)))\n",
        "model1.add(Dropout(0.3))\n",
        "model1.add(LSTM(80, return_sequences=False, bias_initializer=tf.keras.initializers.Constant(bias_value)))\n",
        "model1.add(Dense(31, activation='relu', bias_initializer=tf.keras.initializers.Constant(bias_value)))\n",
        "model1.add(Dropout(0.3))\n",
        "model1.add(Dense(1, activation='linear', bias_initializer=tf.keras.initializers.Constant(bias_value)))\n",
        "\n",
        "model1.summary()\n",
        "\n",
        "\n"
      ]
    },
    {
      "cell_type": "markdown",
      "source": [
        "## Configuring Model Checkpoint and Compilation for Time Series Prediction Model"
      ],
      "metadata": {
        "id": "W9kQbh6vY_jP"
      }
    },
    {
      "cell_type": "code",
      "execution_count": 22,
      "metadata": {
        "id": "AeeSKqKMc9zv"
      },
      "outputs": [],
      "source": [
        "cp1 = ModelCheckpoint('model1/', save_best_only=True)\n",
        "\n",
        "model1.compile(loss=MeanSquaredError(), optimizer=Adam(learning_rate=0.0001), metrics=[RootMeanSquaredError()])"
      ]
    },
    {
      "cell_type": "markdown",
      "source": [
        "## Training Time Series Prediction Model with Model Checkpoint Callback"
      ],
      "metadata": {
        "id": "iF48cchmZGl1"
      }
    },
    {
      "cell_type": "code",
      "execution_count": 23,
      "metadata": {
        "colab": {
          "base_uri": "https://localhost:8080/"
        },
        "id": "d1X7iqUgdAOP",
        "outputId": "79a20c21-d238-44f9-deec-c96270758962"
      },
      "outputs": [
        {
          "output_type": "stream",
          "name": "stdout",
          "text": [
            "Epoch 1/50\n",
            "22/22 [==============================] - 29s 1s/step - loss: 7.8220 - root_mean_squared_error: 2.7968 - val_loss: 7.4468 - val_root_mean_squared_error: 2.7289\n",
            "Epoch 2/50\n",
            "22/22 [==============================] - 8s 357ms/step - loss: 7.2008 - root_mean_squared_error: 2.6834 - val_loss: 6.8562 - val_root_mean_squared_error: 2.6184\n",
            "Epoch 3/50\n",
            "22/22 [==============================] - 9s 413ms/step - loss: 6.6310 - root_mean_squared_error: 2.5751 - val_loss: 6.2758 - val_root_mean_squared_error: 2.5051\n",
            "Epoch 4/50\n",
            "22/22 [==============================] - 8s 399ms/step - loss: 6.0683 - root_mean_squared_error: 2.4634 - val_loss: 5.6933 - val_root_mean_squared_error: 2.3861\n",
            "Epoch 5/50\n",
            "22/22 [==============================] - 8s 390ms/step - loss: 5.5136 - root_mean_squared_error: 2.3481 - val_loss: 5.1387 - val_root_mean_squared_error: 2.2669\n",
            "Epoch 6/50\n",
            "22/22 [==============================] - 9s 424ms/step - loss: 4.9443 - root_mean_squared_error: 2.2236 - val_loss: 4.5901 - val_root_mean_squared_error: 2.1425\n",
            "Epoch 7/50\n",
            "22/22 [==============================] - 8s 399ms/step - loss: 4.4077 - root_mean_squared_error: 2.0994 - val_loss: 4.0742 - val_root_mean_squared_error: 2.0185\n",
            "Epoch 8/50\n",
            "22/22 [==============================] - 8s 365ms/step - loss: 3.9262 - root_mean_squared_error: 1.9815 - val_loss: 3.5691 - val_root_mean_squared_error: 1.8892\n",
            "Epoch 9/50\n",
            "22/22 [==============================] - 9s 417ms/step - loss: 3.3721 - root_mean_squared_error: 1.8363 - val_loss: 3.0750 - val_root_mean_squared_error: 1.7536\n",
            "Epoch 10/50\n",
            "22/22 [==============================] - 7s 335ms/step - loss: 2.9189 - root_mean_squared_error: 1.7085 - val_loss: 2.5616 - val_root_mean_squared_error: 1.6005\n",
            "Epoch 11/50\n",
            "22/22 [==============================] - 9s 418ms/step - loss: 2.4323 - root_mean_squared_error: 1.5596 - val_loss: 2.0587 - val_root_mean_squared_error: 1.4348\n",
            "Epoch 12/50\n",
            "22/22 [==============================] - 8s 369ms/step - loss: 1.9278 - root_mean_squared_error: 1.3884 - val_loss: 1.5646 - val_root_mean_squared_error: 1.2508\n",
            "Epoch 13/50\n",
            "22/22 [==============================] - 8s 377ms/step - loss: 1.4461 - root_mean_squared_error: 1.2025 - val_loss: 1.1011 - val_root_mean_squared_error: 1.0493\n",
            "Epoch 14/50\n",
            "22/22 [==============================] - 9s 408ms/step - loss: 1.0605 - root_mean_squared_error: 1.0298 - val_loss: 0.7011 - val_root_mean_squared_error: 0.8373\n",
            "Epoch 15/50\n",
            "22/22 [==============================] - 8s 375ms/step - loss: 0.7640 - root_mean_squared_error: 0.8741 - val_loss: 0.3989 - val_root_mean_squared_error: 0.6316\n",
            "Epoch 16/50\n",
            "22/22 [==============================] - 8s 390ms/step - loss: 0.4900 - root_mean_squared_error: 0.7000 - val_loss: 0.2026 - val_root_mean_squared_error: 0.4502\n",
            "Epoch 17/50\n",
            "22/22 [==============================] - 8s 376ms/step - loss: 0.3277 - root_mean_squared_error: 0.5724 - val_loss: 0.1023 - val_root_mean_squared_error: 0.3199\n",
            "Epoch 18/50\n",
            "22/22 [==============================] - 9s 410ms/step - loss: 0.3254 - root_mean_squared_error: 0.5704 - val_loss: 0.0455 - val_root_mean_squared_error: 0.2134\n",
            "Epoch 19/50\n",
            "22/22 [==============================] - 7s 337ms/step - loss: 0.3194 - root_mean_squared_error: 0.5652 - val_loss: 0.0261 - val_root_mean_squared_error: 0.1616\n",
            "Epoch 20/50\n",
            "22/22 [==============================] - 9s 419ms/step - loss: 0.3135 - root_mean_squared_error: 0.5599 - val_loss: 0.0160 - val_root_mean_squared_error: 0.1263\n",
            "Epoch 21/50\n",
            "22/22 [==============================] - 8s 374ms/step - loss: 0.2917 - root_mean_squared_error: 0.5401 - val_loss: 0.0130 - val_root_mean_squared_error: 0.1141\n",
            "Epoch 22/50\n",
            "22/22 [==============================] - 9s 410ms/step - loss: 0.2994 - root_mean_squared_error: 0.5472 - val_loss: 0.0105 - val_root_mean_squared_error: 0.1023\n",
            "Epoch 23/50\n",
            "22/22 [==============================] - 8s 383ms/step - loss: 0.3227 - root_mean_squared_error: 0.5681 - val_loss: 0.0104 - val_root_mean_squared_error: 0.1018\n",
            "Epoch 24/50\n",
            "22/22 [==============================] - 9s 417ms/step - loss: 0.2996 - root_mean_squared_error: 0.5473 - val_loss: 0.0065 - val_root_mean_squared_error: 0.0806\n",
            "Epoch 25/50\n",
            "22/22 [==============================] - 0s 8ms/step - loss: 0.3051 - root_mean_squared_error: 0.5524 - val_loss: 0.0078 - val_root_mean_squared_error: 0.0883\n",
            "Epoch 26/50\n",
            "22/22 [==============================] - 0s 8ms/step - loss: 0.2984 - root_mean_squared_error: 0.5462 - val_loss: 0.0078 - val_root_mean_squared_error: 0.0881\n",
            "Epoch 27/50\n",
            "22/22 [==============================] - 0s 8ms/step - loss: 0.2879 - root_mean_squared_error: 0.5366 - val_loss: 0.0110 - val_root_mean_squared_error: 0.1049\n",
            "Epoch 28/50\n",
            "22/22 [==============================] - 0s 8ms/step - loss: 0.3039 - root_mean_squared_error: 0.5513 - val_loss: 0.0120 - val_root_mean_squared_error: 0.1097\n",
            "Epoch 29/50\n",
            "22/22 [==============================] - 0s 8ms/step - loss: 0.2873 - root_mean_squared_error: 0.5360 - val_loss: 0.0107 - val_root_mean_squared_error: 0.1035\n",
            "Epoch 30/50\n",
            "22/22 [==============================] - 0s 7ms/step - loss: 0.3066 - root_mean_squared_error: 0.5538 - val_loss: 0.0090 - val_root_mean_squared_error: 0.0951\n",
            "Epoch 31/50\n",
            "22/22 [==============================] - 0s 8ms/step - loss: 0.2822 - root_mean_squared_error: 0.5312 - val_loss: 0.0100 - val_root_mean_squared_error: 0.1002\n",
            "Epoch 32/50\n",
            "22/22 [==============================] - 0s 8ms/step - loss: 0.2983 - root_mean_squared_error: 0.5461 - val_loss: 0.0117 - val_root_mean_squared_error: 0.1081\n",
            "Epoch 33/50\n",
            "22/22 [==============================] - 0s 8ms/step - loss: 0.3067 - root_mean_squared_error: 0.5538 - val_loss: 0.0157 - val_root_mean_squared_error: 0.1253\n",
            "Epoch 34/50\n",
            "22/22 [==============================] - 0s 8ms/step - loss: 0.2866 - root_mean_squared_error: 0.5353 - val_loss: 0.0104 - val_root_mean_squared_error: 0.1021\n",
            "Epoch 35/50\n",
            "22/22 [==============================] - 0s 8ms/step - loss: 0.3002 - root_mean_squared_error: 0.5479 - val_loss: 0.0111 - val_root_mean_squared_error: 0.1052\n",
            "Epoch 36/50\n",
            "22/22 [==============================] - 0s 7ms/step - loss: 0.2781 - root_mean_squared_error: 0.5273 - val_loss: 0.0135 - val_root_mean_squared_error: 0.1163\n",
            "Epoch 37/50\n",
            "22/22 [==============================] - 0s 8ms/step - loss: 0.2959 - root_mean_squared_error: 0.5440 - val_loss: 0.0105 - val_root_mean_squared_error: 0.1027\n",
            "Epoch 38/50\n",
            "22/22 [==============================] - 0s 8ms/step - loss: 0.2872 - root_mean_squared_error: 0.5359 - val_loss: 0.0083 - val_root_mean_squared_error: 0.0910\n",
            "Epoch 39/50\n",
            "22/22 [==============================] - 0s 8ms/step - loss: 0.2861 - root_mean_squared_error: 0.5349 - val_loss: 0.0103 - val_root_mean_squared_error: 0.1014\n",
            "Epoch 40/50\n",
            "22/22 [==============================] - 0s 8ms/step - loss: 0.2846 - root_mean_squared_error: 0.5335 - val_loss: 0.0111 - val_root_mean_squared_error: 0.1052\n",
            "Epoch 41/50\n",
            "22/22 [==============================] - 0s 8ms/step - loss: 0.2945 - root_mean_squared_error: 0.5427 - val_loss: 0.0111 - val_root_mean_squared_error: 0.1054\n",
            "Epoch 42/50\n",
            "22/22 [==============================] - 0s 8ms/step - loss: 0.2708 - root_mean_squared_error: 0.5204 - val_loss: 0.0087 - val_root_mean_squared_error: 0.0935\n",
            "Epoch 43/50\n",
            "22/22 [==============================] - 0s 8ms/step - loss: 0.3043 - root_mean_squared_error: 0.5516 - val_loss: 0.0100 - val_root_mean_squared_error: 0.1002\n",
            "Epoch 44/50\n",
            "22/22 [==============================] - 0s 9ms/step - loss: 0.2912 - root_mean_squared_error: 0.5396 - val_loss: 0.0090 - val_root_mean_squared_error: 0.0948\n",
            "Epoch 45/50\n",
            "22/22 [==============================] - 0s 8ms/step - loss: 0.2899 - root_mean_squared_error: 0.5385 - val_loss: 0.0107 - val_root_mean_squared_error: 0.1035\n",
            "Epoch 46/50\n",
            "22/22 [==============================] - 0s 8ms/step - loss: 0.2519 - root_mean_squared_error: 0.5019 - val_loss: 0.0086 - val_root_mean_squared_error: 0.0928\n",
            "Epoch 47/50\n",
            "22/22 [==============================] - 0s 7ms/step - loss: 0.2889 - root_mean_squared_error: 0.5375 - val_loss: 0.0090 - val_root_mean_squared_error: 0.0950\n",
            "Epoch 48/50\n",
            "22/22 [==============================] - 0s 7ms/step - loss: 0.3136 - root_mean_squared_error: 0.5600 - val_loss: 0.0079 - val_root_mean_squared_error: 0.0888\n",
            "Epoch 49/50\n",
            "22/22 [==============================] - 0s 9ms/step - loss: 0.2838 - root_mean_squared_error: 0.5327 - val_loss: 0.0109 - val_root_mean_squared_error: 0.1042\n",
            "Epoch 50/50\n",
            "22/22 [==============================] - 0s 7ms/step - loss: 0.3091 - root_mean_squared_error: 0.5560 - val_loss: 0.0145 - val_root_mean_squared_error: 0.1203\n"
          ]
        }
      ],
      "source": [
        "history=model1.fit(X_train1, y_train1, validation_data=(X_val1, y_val1), epochs=50, callbacks=[cp1])\n",
        "\n"
      ]
    },
    {
      "cell_type": "code",
      "execution_count": 24,
      "metadata": {
        "colab": {
          "base_uri": "https://localhost:8080/",
          "height": 489
        },
        "id": "nGumtAMkeBZg",
        "outputId": "d663d3eb-3996-459b-85a1-5102cb011347"
      },
      "outputs": [
        {
          "output_type": "execute_result",
          "data": {
            "text/plain": [
              "<matplotlib.legend.Legend at 0x7fd91a7c14b0>"
            ]
          },
          "metadata": {},
          "execution_count": 24
        },
        {
          "output_type": "display_data",
          "data": {
            "text/plain": [
              "<Figure size 640x480 with 1 Axes>"
            ],
            "image/png": "[encoded data removed]"
          },
          "metadata": {}
        }
      ],
      "source": [
        "import matplotlib.pyplot as plt\n",
        "plt.subplot(1,2,1)\n",
        "plt.plot(history.history[\"loss\"],label=\"loss\")\n",
        "plt.plot(history.history[\"val_loss\"],label=\"validation_loss\")\n",
        "plt.title(\"loss\")\n",
        "plt.xlabel(\"Epochs\")\n",
        "plt.ylabel(\"loss\")\n",
        "plt.legend()"
      ]
    },
    {
      "cell_type": "code",
      "execution_count": null,
      "metadata": {
        "id": "YB37ixyVFDuF"
      },
      "outputs": [],
      "source": [
        "train_predictions = model1.predict(X_train1).flatten()\n",
        "print(len(train_predictions))\n",
        "train_results = pd.DataFrame(data={'Train Predictions':train_predictions, 'Actuals':y_train1})\n",
        "train_results"
      ]
    },
    {
      "cell_type": "code",
      "execution_count": null,
      "metadata": {
        "id": "i8leNP_4FJ0O"
      },
      "outputs": [],
      "source": [
        "import matplotlib.pyplot as plt\n",
        "plt.plot(train_results['Train Predictions'])\n",
        "plt.plot(train_results['Actuals'])"
      ]
    },
    {
      "cell_type": "code",
      "execution_count": 28,
      "metadata": {
        "colab": {
          "base_uri": "https://localhost:8080/",
          "height": 391
        },
        "id": "iO5xm-O2FUxd",
        "outputId": "86875dad-2d45-424a-97fd-94e2a67f0cfa"
      },
      "outputs": [
        {
          "output_type": "display_data",
          "data": {
            "text/plain": [
              "<Figure size 800x400 with 1 Axes>"
            ],
            "image/png": "[encoded data removed]"
          },
          "metadata": {}
        }
      ],
      "source": [
        "from matplotlib import pyplot as plt\n",
        "train_results['Train Predictions'].plot(kind='line', figsize=(8, 4), title='Train Predictions')\n",
        "plt.gca().spines[['top', 'right']].set_visible(False)"
      ]
    },
    {
      "cell_type": "code",
      "execution_count": 29,
      "metadata": {
        "colab": {
          "base_uri": "https://localhost:8080/",
          "height": 391
        },
        "id": "-CitfIVKFWAn",
        "outputId": "c54df50d-1f6c-4682-e932-4480f16f86d7"
      },
      "outputs": [
        {
          "output_type": "display_data",
          "data": {
            "text/plain": [
              "<Figure size 800x400 with 1 Axes>"
            ],
            "image/png": "[encoded data removed]"
          },
          "metadata": {}
        }
      ],
      "source": [
        "from matplotlib import pyplot as plt\n",
        "train_results['Actuals'].plot(kind='line', figsize=(8, 4), title='Actuals')\n",
        "plt.gca().spines[['top', 'right']].set_visible(False)"
      ]
    },
    {
      "cell_type": "code",
      "execution_count": null,
      "metadata": {
        "colab": {
          "base_uri": "https://localhost:8080/"
        },
        "id": "VWVji8vczHW2",
        "outputId": "68766107-228d-4835-da02-4cc16692c3ce"
      },
      "outputs": [
        {
          "name": "stderr",
          "output_type": "stream",
          "text": [
            "/usr/local/lib/python3.10/dist-packages/keras/src/engine/training.py:3103: UserWarning: You are saving your model as an HDF5 file via `model.save()`. This file format is considered legacy. We recommend using instead the native Keras format, e.g. `model.save('my_model.keras')`.\n",
            "  saving_api.save_model(\n"
          ]
        }
      ],
      "source": [
        "model1.save(\"model2.h5\")"
      ]
    }
  ],
  "metadata": {
    "colab": {
      "provenance": [],
      "authorship_tag": "ABX9TyPlKdh/SrWP+aONWmbkxbde",
      "include_colab_link": true
    },
    "kernelspec": {
      "display_name": "Python 3",
      "name": "python3"
    },
    "language_info": {
      "name": "python"
    }
  },
  "nbformat": 4,
  "nbformat_minor": 0
}